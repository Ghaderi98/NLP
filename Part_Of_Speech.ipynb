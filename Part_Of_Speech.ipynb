{
  "nbformat": 4,
  "nbformat_minor": 0,
  "metadata": {
    "colab": {
      "provenance": []
    },
    "kernelspec": {
      "name": "python3",
      "display_name": "Python 3"
    },
    "language_info": {
      "name": "python"
    }
  },
  "cells": [
    {
      "cell_type": "code",
      "execution_count": null,
      "metadata": {
        "id": "nsdaXvhHrFHB"
      },
      "outputs": [],
      "source": [
        "import spacy"
      ]
    },
    {
      "cell_type": "code",
      "source": [
        "nlp=spacy.load(\"en_core_web_sm\")"
      ],
      "metadata": {
        "id": "PX1F2vymrH43"
      },
      "execution_count": null,
      "outputs": []
    },
    {
      "cell_type": "code",
      "source": [
        "nlp.pipe_names"
      ],
      "metadata": {
        "colab": {
          "base_uri": "https://localhost:8080/"
        },
        "id": "JWhJ6zV4uogz",
        "outputId": "3044168d-3e89-4cd3-c627-7b1c4b981442"
      },
      "execution_count": null,
      "outputs": [
        {
          "output_type": "execute_result",
          "data": {
            "text/plain": [
              "['tok2vec', 'tagger', 'parser', 'attribute_ruler', 'lemmatizer', 'ner']"
            ]
          },
          "metadata": {},
          "execution_count": 27
        }
      ]
    },
    {
      "cell_type": "code",
      "source": [
        "doc=nlp(\"Elon flew to mars yesterday. He carried biryani masala with him\")\n",
        "\n",
        "for token in doc:\n",
        "  print(token , \"|\", token.pos_ , \"|\" , spacy.explain(token.pos_))\n",
        "  #print(token , \"|\", token.pos)"
      ],
      "metadata": {
        "colab": {
          "base_uri": "https://localhost:8080/"
        },
        "id": "r9UxMY_HrQ1q",
        "outputId": "a147b23c-380c-4670-da43-97d2c1f9f972"
      },
      "execution_count": null,
      "outputs": [
        {
          "output_type": "stream",
          "name": "stdout",
          "text": [
            "Elon | PROPN | proper noun\n",
            "flew | VERB | verb\n",
            "to | ADP | adposition\n",
            "mars | NOUN | noun\n",
            "yesterday | NOUN | noun\n",
            ". | PUNCT | punctuation\n",
            "He | PRON | pronoun\n",
            "carried | VERB | verb\n",
            "biryani | ADJ | adjective\n",
            "masala | NOUN | noun\n",
            "with | ADP | adposition\n",
            "him | PRON | pronoun\n"
          ]
        }
      ]
    },
    {
      "cell_type": "code",
      "source": [
        "doc=nlp(\"Wow! Dr. Strange made 265 million $ on the very first day\")\n",
        "for token in doc:\n",
        "  print(token , \"|\", token.pos_ , \"|\" , spacy.explain(token.pos_),\n",
        "        \"|\", token.tag_ , spacy.explain(token.tag_))\n",
        "  #print(token , \"|\", token.pos)"
      ],
      "metadata": {
        "colab": {
          "base_uri": "https://localhost:8080/"
        },
        "id": "0WuDOf6IuL2T",
        "outputId": "320ab5e3-116c-4311-d0a6-c601b9319f7b"
      },
      "execution_count": null,
      "outputs": [
        {
          "output_type": "stream",
          "name": "stdout",
          "text": [
            "Wow | INTJ | interjection | UH interjection\n",
            "! | PUNCT | punctuation | . punctuation mark, sentence closer\n",
            "Dr. | PROPN | proper noun | NNP noun, proper singular\n",
            "Strange | PROPN | proper noun | NNP noun, proper singular\n",
            "made | VERB | verb | VBD verb, past tense\n",
            "265 | NUM | numeral | CD cardinal number\n",
            "million | NUM | numeral | CD cardinal number\n",
            "$ | NUM | numeral | CD cardinal number\n",
            "on | ADP | adposition | IN conjunction, subordinating or preposition\n",
            "the | DET | determiner | DT determiner\n",
            "very | ADV | adverb | RB adverb\n",
            "first | ADJ | adjective | JJ adjective (English), other noun-modifier (Chinese)\n",
            "day | NOUN | noun | NN noun, singular or mass\n"
          ]
        }
      ]
    },
    {
      "cell_type": "code",
      "source": [
        "doc=nlp(\"He quits the job\")\n",
        "doc[1]\n",
        "print(doc[1].text , \"|\" , doc[1].tag_ , \"|\", spacy.explain(doc[1].tag_))"
      ],
      "metadata": {
        "colab": {
          "base_uri": "https://localhost:8080/"
        },
        "id": "-i228kX5x3-i",
        "outputId": "7aa5c76c-6dd5-41f8-ba4f-be0c7e1994a0"
      },
      "execution_count": null,
      "outputs": [
        {
          "output_type": "stream",
          "name": "stdout",
          "text": [
            "quits | VBZ | verb, 3rd person singular present\n"
          ]
        }
      ]
    },
    {
      "cell_type": "code",
      "source": [
        "doc=nlp(\"He quit the job\")\n",
        "doc[1]\n",
        "print(doc[1].text , \"|\" , doc[1].tag_ , \"|\", spacy.explain(doc[1].tag_))"
      ],
      "metadata": {
        "colab": {
          "base_uri": "https://localhost:8080/"
        },
        "id": "j_qGvZwL0fDu",
        "outputId": "fd5a3df1-55f7-49dc-bfaf-a90b909a3737"
      },
      "execution_count": null,
      "outputs": [
        {
          "output_type": "stream",
          "name": "stdout",
          "text": [
            "quit | VBD | verb, past tense\n"
          ]
        }
      ]
    },
    {
      "cell_type": "code",
      "source": [
        "earnings_text=\"\"\"Microsoft Corp. today announced the following results for the quarter ended December 31, 2021, as compared to the corresponding period of last fiscal year:\n",
        "\n",
        "·         Revenue was $51.7 billion and increased 20%\n",
        "·         Operating income was $22.2 billion and increased 24%\n",
        "·         Net income was $18.8 billion and increased 21%\n",
        "·         Diluted earnings per share was $2.48 and increased 22%\n",
        "“Digital technology etc. is the most malleable resource at the world’s disposal to overcome constraints and reimagine everyday work and life,” said Satya Nadella, chairman and chief executive officer of Microsoft. “As tech as a percentage of global GDP continues to increase, we are innovating and investing across diverse and growing markets, with a common underlying technology stack and an operating model that reinforces a common strategy, culture, and sense of purpose.”\n",
        "“Solid commercial execution, represented by strong bookings growth driven by long-term Azure commitments, increased Microsoft Cloud revenue to $22.1 billion, up 32% year over year” said Amy Hood, executive vice president and chief financial officer of Microsoft.\"\"\"\n"
      ],
      "metadata": {
        "id": "MUB2-TIC0sDq"
      },
      "execution_count": null,
      "outputs": []
    },
    {
      "cell_type": "code",
      "source": [
        "doc=nlp(earnings_text)\n",
        "filtered_tokens=[]\n",
        "for token in doc:\n",
        "  if token.pos_  not in [\"SPACE\",\"X\",\"PUNCT\"]:\n",
        "    print(token , \"|\", token.pos_ , \"|\" , spacy.explain(token.pos_))"
      ],
      "metadata": {
        "colab": {
          "base_uri": "https://localhost:8080/"
        },
        "id": "HiWmi3K91U-M",
        "outputId": "8912177d-36a9-4b58-8c31-6fb0a2d6eae8"
      },
      "execution_count": null,
      "outputs": [
        {
          "output_type": "stream",
          "name": "stdout",
          "text": [
            "Microsoft | PROPN | proper noun\n",
            "Corp. | PROPN | proper noun\n",
            "today | NOUN | noun\n",
            "announced | VERB | verb\n",
            "the | DET | determiner\n",
            "following | VERB | verb\n",
            "results | NOUN | noun\n",
            "for | ADP | adposition\n",
            "the | DET | determiner\n",
            "quarter | NOUN | noun\n",
            "ended | VERB | verb\n",
            "December | PROPN | proper noun\n",
            "31 | NUM | numeral\n",
            "2021 | NUM | numeral\n",
            "as | SCONJ | subordinating conjunction\n",
            "compared | VERB | verb\n",
            "to | ADP | adposition\n",
            "the | DET | determiner\n",
            "corresponding | ADJ | adjective\n",
            "period | NOUN | noun\n",
            "of | ADP | adposition\n",
            "last | ADJ | adjective\n",
            "fiscal | ADJ | adjective\n",
            "year | NOUN | noun\n",
            "Revenue | NOUN | noun\n",
            "was | AUX | auxiliary\n",
            "$ | SYM | symbol\n",
            "51.7 | NUM | numeral\n",
            "billion | NUM | numeral\n",
            "and | CCONJ | coordinating conjunction\n",
            "increased | VERB | verb\n",
            "20 | NUM | numeral\n",
            "% | NOUN | noun\n",
            "Operating | VERB | verb\n",
            "income | NOUN | noun\n",
            "was | AUX | auxiliary\n",
            "$ | SYM | symbol\n",
            "22.2 | NUM | numeral\n",
            "billion | NUM | numeral\n",
            "and | CCONJ | coordinating conjunction\n",
            "increased | VERB | verb\n",
            "24 | NUM | numeral\n",
            "% | NOUN | noun\n",
            "Net | ADJ | adjective\n",
            "income | NOUN | noun\n",
            "was | AUX | auxiliary\n",
            "$ | SYM | symbol\n",
            "18.8 | NUM | numeral\n",
            "billion | NUM | numeral\n",
            "and | CCONJ | coordinating conjunction\n",
            "increased | VERB | verb\n",
            "21 | NUM | numeral\n",
            "% | NOUN | noun\n",
            "Diluted | VERB | verb\n",
            "earnings | NOUN | noun\n",
            "per | ADP | adposition\n",
            "share | NOUN | noun\n",
            "was | AUX | auxiliary\n",
            "$ | SYM | symbol\n",
            "2.48 | NUM | numeral\n",
            "and | CCONJ | coordinating conjunction\n",
            "increased | VERB | verb\n",
            "22 | NUM | numeral\n",
            "% | NOUN | noun\n",
            "Digital | PROPN | proper noun\n",
            "technology | NOUN | noun\n",
            "is | AUX | auxiliary\n",
            "the | DET | determiner\n",
            "most | ADV | adverb\n",
            "malleable | ADJ | adjective\n",
            "resource | NOUN | noun\n",
            "at | ADP | adposition\n",
            "the | DET | determiner\n",
            "world | NOUN | noun\n",
            "’s | PART | particle\n",
            "disposal | NOUN | noun\n",
            "to | PART | particle\n",
            "overcome | VERB | verb\n",
            "constraints | NOUN | noun\n",
            "and | CCONJ | coordinating conjunction\n",
            "reimagine | VERB | verb\n",
            "everyday | ADJ | adjective\n",
            "work | NOUN | noun\n",
            "and | CCONJ | coordinating conjunction\n",
            "life | NOUN | noun\n",
            "said | VERB | verb\n",
            "Satya | PROPN | proper noun\n",
            "Nadella | PROPN | proper noun\n",
            "chairman | NOUN | noun\n",
            "and | CCONJ | coordinating conjunction\n",
            "chief | ADJ | adjective\n",
            "executive | ADJ | adjective\n",
            "officer | NOUN | noun\n",
            "of | ADP | adposition\n",
            "Microsoft | PROPN | proper noun\n",
            "As | ADV | adverb\n",
            "tech | NOUN | noun\n",
            "as | ADP | adposition\n",
            "a | DET | determiner\n",
            "percentage | NOUN | noun\n",
            "of | ADP | adposition\n",
            "global | ADJ | adjective\n",
            "GDP | PROPN | proper noun\n",
            "continues | VERB | verb\n",
            "to | PART | particle\n",
            "increase | VERB | verb\n",
            "we | PRON | pronoun\n",
            "are | AUX | auxiliary\n",
            "innovating | VERB | verb\n",
            "and | CCONJ | coordinating conjunction\n",
            "investing | VERB | verb\n",
            "across | ADP | adposition\n",
            "diverse | ADJ | adjective\n",
            "and | CCONJ | coordinating conjunction\n",
            "growing | VERB | verb\n",
            "markets | NOUN | noun\n",
            "with | ADP | adposition\n",
            "a | DET | determiner\n",
            "common | ADJ | adjective\n",
            "underlying | VERB | verb\n",
            "technology | NOUN | noun\n",
            "stack | NOUN | noun\n",
            "and | CCONJ | coordinating conjunction\n",
            "an | DET | determiner\n",
            "operating | NOUN | noun\n",
            "model | NOUN | noun\n",
            "that | PRON | pronoun\n",
            "reinforces | VERB | verb\n",
            "a | DET | determiner\n",
            "common | ADJ | adjective\n",
            "strategy | NOUN | noun\n",
            "culture | NOUN | noun\n",
            "and | CCONJ | coordinating conjunction\n",
            "sense | NOUN | noun\n",
            "of | ADP | adposition\n",
            "purpose | NOUN | noun\n",
            "Solid | ADJ | adjective\n",
            "commercial | ADJ | adjective\n",
            "execution | NOUN | noun\n",
            "represented | VERB | verb\n",
            "by | ADP | adposition\n",
            "strong | ADJ | adjective\n",
            "bookings | NOUN | noun\n",
            "growth | NOUN | noun\n",
            "driven | VERB | verb\n",
            "by | ADP | adposition\n",
            "long | ADJ | adjective\n",
            "term | NOUN | noun\n",
            "Azure | ADJ | adjective\n",
            "commitments | NOUN | noun\n",
            "increased | VERB | verb\n",
            "Microsoft | PROPN | proper noun\n",
            "Cloud | PROPN | proper noun\n",
            "revenue | NOUN | noun\n",
            "to | ADP | adposition\n",
            "$ | SYM | symbol\n",
            "22.1 | NUM | numeral\n",
            "billion | NUM | numeral\n",
            "up | ADV | adverb\n",
            "32 | NUM | numeral\n",
            "% | NOUN | noun\n",
            "year | NOUN | noun\n",
            "over | ADP | adposition\n",
            "year | NOUN | noun\n",
            "said | VERB | verb\n",
            "Amy | PROPN | proper noun\n",
            "Hood | PROPN | proper noun\n",
            "executive | ADJ | adjective\n",
            "vice | NOUN | noun\n",
            "president | NOUN | noun\n",
            "and | CCONJ | coordinating conjunction\n",
            "chief | ADJ | adjective\n",
            "financial | ADJ | adjective\n",
            "officer | NOUN | noun\n",
            "of | ADP | adposition\n",
            "Microsoft | PROPN | proper noun\n"
          ]
        }
      ]
    },
    {
      "cell_type": "code",
      "source": [
        "doc=nlp(earnings_text)\n",
        "filtered_tokens=[]\n",
        "for token in doc:\n",
        "  if token.pos_  not in [\"SPACE\",\"X\",\"PUNCT\"]:\n",
        "    filtered_tokens.append(token)"
      ],
      "metadata": {
        "id": "LKwJJTBX30Vq"
      },
      "execution_count": null,
      "outputs": []
    },
    {
      "cell_type": "code",
      "source": [
        "filtered_tokens[:20]"
      ],
      "metadata": {
        "colab": {
          "base_uri": "https://localhost:8080/"
        },
        "id": "I8aQhi5n1f6N",
        "outputId": "61f80cb3-0061-408a-9c79-c4deb4040f7e"
      },
      "execution_count": null,
      "outputs": [
        {
          "output_type": "execute_result",
          "data": {
            "text/plain": [
              "[Microsoft,\n",
              " Corp.,\n",
              " today,\n",
              " announced,\n",
              " the,\n",
              " following,\n",
              " results,\n",
              " for,\n",
              " the,\n",
              " quarter,\n",
              " ended,\n",
              " December,\n",
              " 31,\n",
              " 2021,\n",
              " as,\n",
              " compared,\n",
              " to,\n",
              " the,\n",
              " corresponding,\n",
              " period,\n",
              " of,\n",
              " last,\n",
              " fiscal,\n",
              " year,\n",
              " Revenue,\n",
              " was,\n",
              " $,\n",
              " 51.7,\n",
              " billion,\n",
              " and,\n",
              " increased,\n",
              " 20,\n",
              " %,\n",
              " Operating,\n",
              " income,\n",
              " was,\n",
              " $,\n",
              " 22.2,\n",
              " billion,\n",
              " and,\n",
              " increased,\n",
              " 24,\n",
              " %,\n",
              " Net,\n",
              " income,\n",
              " was,\n",
              " $,\n",
              " 18.8,\n",
              " billion,\n",
              " and,\n",
              " increased,\n",
              " 21,\n",
              " %,\n",
              " Diluted,\n",
              " earnings,\n",
              " per,\n",
              " share,\n",
              " was,\n",
              " $,\n",
              " 2.48,\n",
              " and,\n",
              " increased,\n",
              " 22,\n",
              " %,\n",
              " Digital,\n",
              " technology,\n",
              " is,\n",
              " the,\n",
              " most,\n",
              " malleable,\n",
              " resource,\n",
              " at,\n",
              " the,\n",
              " world,\n",
              " ’s,\n",
              " disposal,\n",
              " to,\n",
              " overcome,\n",
              " constraints,\n",
              " and,\n",
              " reimagine,\n",
              " everyday,\n",
              " work,\n",
              " and,\n",
              " life,\n",
              " said,\n",
              " Satya,\n",
              " Nadella,\n",
              " chairman,\n",
              " and,\n",
              " chief,\n",
              " executive,\n",
              " officer,\n",
              " of,\n",
              " Microsoft,\n",
              " As,\n",
              " tech,\n",
              " as,\n",
              " a,\n",
              " percentage,\n",
              " of,\n",
              " global,\n",
              " GDP,\n",
              " continues,\n",
              " to,\n",
              " increase,\n",
              " we,\n",
              " are,\n",
              " innovating,\n",
              " and,\n",
              " investing,\n",
              " across,\n",
              " diverse,\n",
              " and,\n",
              " growing,\n",
              " markets,\n",
              " with,\n",
              " a,\n",
              " common,\n",
              " underlying,\n",
              " technology,\n",
              " stack,\n",
              " and,\n",
              " an,\n",
              " operating,\n",
              " model,\n",
              " that,\n",
              " reinforces,\n",
              " a,\n",
              " common,\n",
              " strategy,\n",
              " culture,\n",
              " and,\n",
              " sense,\n",
              " of,\n",
              " purpose,\n",
              " Solid,\n",
              " commercial,\n",
              " execution,\n",
              " represented,\n",
              " by,\n",
              " strong,\n",
              " bookings,\n",
              " growth,\n",
              " driven,\n",
              " by,\n",
              " long,\n",
              " term,\n",
              " Azure,\n",
              " commitments,\n",
              " increased,\n",
              " Microsoft,\n",
              " Cloud,\n",
              " revenue,\n",
              " to,\n",
              " $,\n",
              " 22.1,\n",
              " billion,\n",
              " up,\n",
              " 32,\n",
              " %,\n",
              " year,\n",
              " over,\n",
              " year,\n",
              " said,\n",
              " Amy,\n",
              " Hood,\n",
              " executive,\n",
              " vice,\n",
              " president,\n",
              " and,\n",
              " chief,\n",
              " financial,\n",
              " officer,\n",
              " of,\n",
              " Microsoft]"
            ]
          },
          "metadata": {},
          "execution_count": 40
        }
      ]
    }
  ]
}