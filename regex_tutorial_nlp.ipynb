{
  "nbformat": 4,
  "nbformat_minor": 0,
  "metadata": {
    "colab": {
      "provenance": []
    },
    "kernelspec": {
      "name": "python3",
      "display_name": "Python 3"
    },
    "language_info": {
      "name": "python"
    }
  },
  "cells": [
    {
      "cell_type": "code",
      "execution_count": 13,
      "metadata": {
        "id": "lsirF92zb0O_"
      },
      "outputs": [],
      "source": [
        "import re"
      ]
    },
    {
      "cell_type": "code",
      "source": [
        "#chat1 = 'codebasics: you ask lot of questions 1235678912, abc@xyz.com'\n",
        "#chat2 = 'codebasics: here it is (123)-567-8912, abc@xyz.com'\n",
        "#chat3 = 'codebasics: yes, phone: 1235678912 email: abc@xyz.com'\n"
      ],
      "metadata": {
        "id": "tK5LUVcXNo3H"
      },
      "execution_count": 14,
      "outputs": []
    },
    {
      "cell_type": "code",
      "source": [
        "#pattern='[a-z0-9A-Z_]*@[a-z0-9A-Z]*\\.[a-zA-Z]*'\n",
        "#matches=re.findall(pattern,chat2)\n",
        "#email=matches[0]\n",
        "#email"
      ],
      "metadata": {
        "id": "-dpttGSkXVw0"
      },
      "execution_count": 15,
      "outputs": []
    },
    {
      "cell_type": "code",
      "source": [
        "#chat1 = 'codebasics=Hello I am having an issue with my order # 412889912'\n",
        "#chat2 = 'codebasics: I have a problem with my order number 412889912'\n",
        "#chat3 = 'codebasics: My order 412889912 is having an issue ,I was charged 300$ when online it says 280$'"
      ],
      "metadata": {
        "id": "xQ434gfPPEo3"
      },
      "execution_count": 16,
      "outputs": []
    },
    {
      "cell_type": "code",
      "source": [
        "#pattern='order[^\\d]*(\\d*)'\n",
        "#matches=re.findall(pattern,chat2)\n",
        "#email=matches[0]\n",
        "#email"
      ],
      "metadata": {
        "id": "gLtCwaXUPHk2"
      },
      "execution_count": 17,
      "outputs": []
    },
    {
      "cell_type": "code",
      "source": [
        "text = '''\n",
        "Musk in 2022\n",
        "Born\tElon Reeve Musk\n",
        "June 28, 1971 (age 53)\n",
        "Pretoria, Transvaal, South Africa\n",
        "Citizenship\n",
        "South Africa\n",
        "Canada\n",
        "United States\n",
        "Education\tUniversity of Pennsylvania (BA, BS)\n",
        "Title\n",
        "Founder, CEO, and chief engineer of SpaceX\n",
        "CEO and product architect of Tesla, Inc.\n",
        "Owner, CTO and Executive Chairman of X (formerly Twitter)\n",
        "President of the Musk Foundation\n",
        "Founder of The Boring Company, X Corp., and xAI\n",
        "Co-founder of Neuralink, OpenAI, Zip2, and X.com (part of PayPal)\n",
        "Spouses\n",
        "Justine Wilson\n",
        "​\n",
        "​(m. 2000; div. 2008)​\n",
        "Talulah Riley\n",
        "​\n",
        "​(m. 2010; div. 2012)​\n",
        "​\n",
        "​(m. 2013; div. 2016)​\n",
        "Partners\n",
        "Grimes (2018–2021)[1]\n",
        "Children\t12[a][3]\n",
        "Parents\n",
        "Errol Musk\n",
        "Maye Musk\n",
        "Relatives\n",
        "Kimbal Musk (brother)\n",
        "Tosca Musk (sister)\n",
        "Lyndon Rive (cousin)\n",
        "'''\n"
      ],
      "metadata": {
        "id": "Tw9CMU_eX4uj"
      },
      "execution_count": 18,
      "outputs": []
    },
    {
      "cell_type": "code",
      "source": [
        "pattern='age (\\d+)'\n",
        "matches=re.findall(pattern,text)\n",
        "matches\n"
      ],
      "metadata": {
        "colab": {
          "base_uri": "https://localhost:8080/"
        },
        "id": "IZjqPI96XNJe",
        "outputId": "5696685c-d788-43b2-ca72-d57e5e5e44df"
      },
      "execution_count": 21,
      "outputs": [
        {
          "output_type": "execute_result",
          "data": {
            "text/plain": [
              "['53']"
            ]
          },
          "metadata": {},
          "execution_count": 21
        }
      ]
    },
    {
      "cell_type": "code",
      "source": [
        "pattern='Born(.*)'\n",
        "matches=re.findall(pattern,text)\n",
        "#matches\n",
        "matches[0].strip()\n"
      ],
      "metadata": {
        "colab": {
          "base_uri": "https://localhost:8080/",
          "height": 36
        },
        "id": "Ai5BaWNYapLk",
        "outputId": "0d34ce09-615b-4d2d-bcba-5fcbc7588b34"
      },
      "execution_count": 23,
      "outputs": [
        {
          "output_type": "execute_result",
          "data": {
            "text/plain": [
              "'Elon Reeve Musk'"
            ],
            "application/vnd.google.colaboratory.intrinsic+json": {
              "type": "string"
            }
          },
          "metadata": {},
          "execution_count": 23
        }
      ]
    },
    {
      "cell_type": "code",
      "source": [
        "pattern='Born.*\\n(.*)\\(age'\n",
        "matches=re.findall(pattern,text)\n",
        "#matches\n",
        "matches[0].strip()"
      ],
      "metadata": {
        "colab": {
          "base_uri": "https://localhost:8080/",
          "height": 36
        },
        "id": "cGxFIDibea3o",
        "outputId": "8035444a-1106-4c12-ed38-0b4d5d08de93"
      },
      "execution_count": 26,
      "outputs": [
        {
          "output_type": "execute_result",
          "data": {
            "text/plain": [
              "'June 28, 1971'"
            ],
            "application/vnd.google.colaboratory.intrinsic+json": {
              "type": "string"
            }
          },
          "metadata": {},
          "execution_count": 26
        }
      ]
    },
    {
      "cell_type": "code",
      "source": [
        "pattern='\\(age.*\\n(.*)'\n",
        "matches=re.findall(pattern,text)\n",
        "#matches\n",
        "matches[0].strip()"
      ],
      "metadata": {
        "colab": {
          "base_uri": "https://localhost:8080/",
          "height": 36
        },
        "id": "lIW0PgWBifg7",
        "outputId": "9378f899-8be6-4291-c285-18f55e6946c8"
      },
      "execution_count": 25,
      "outputs": [
        {
          "output_type": "execute_result",
          "data": {
            "text/plain": [
              "'Pretoria, Transvaal, South Africa'"
            ],
            "application/vnd.google.colaboratory.intrinsic+json": {
              "type": "string"
            }
          },
          "metadata": {},
          "execution_count": 25
        }
      ]
    },
    {
      "cell_type": "code",
      "source": [
        "def get_pattern_match (pattern,text):\n",
        "  matches=re.findall(pattern,text)\n",
        "  if matches:\n",
        "    return matches[0]\n",
        ""
      ],
      "metadata": {
        "id": "stPn9iPklsFI"
      },
      "execution_count": 27,
      "outputs": []
    },
    {
      "cell_type": "code",
      "source": [
        "get_pattern_match('\\(age.*\\n(.*)',text)"
      ],
      "metadata": {
        "colab": {
          "base_uri": "https://localhost:8080/",
          "height": 36
        },
        "id": "7rtsjjjynrVx",
        "outputId": "75dc7b66-4a14-4fa4-9e9e-0b4d684e93e5"
      },
      "execution_count": 28,
      "outputs": [
        {
          "output_type": "execute_result",
          "data": {
            "text/plain": [
              "'Pretoria, Transvaal, South Africa'"
            ],
            "application/vnd.google.colaboratory.intrinsic+json": {
              "type": "string"
            }
          },
          "metadata": {},
          "execution_count": 28
        }
      ]
    },
    {
      "cell_type": "code",
      "source": [
        "def get_personal_information(text):\n",
        "  age=get_pattern_match('age (\\d+)',text)\n",
        "\n",
        "  full_name=get_pattern_match('Born(.*)\\n',text)\n",
        "  birth_date=get_pattern_match('Born.*\\n(.*)\\(age',text)\n",
        "  birth_place=get_pattern_match('\\(age.*\\n(.*)',text)\n",
        "  return{\n",
        "      'age' : int(age),\n",
        "      'name' : full_name.strip(),\n",
        "      'birth_date' : birth_date.strip(),\n",
        "      'birth_place' : birth_place.strip()\n",
        "\n",
        "  }\n",
        "\n",
        ""
      ],
      "metadata": {
        "id": "lR8N3tPvn8LA"
      },
      "execution_count": 33,
      "outputs": []
    },
    {
      "cell_type": "code",
      "source": [
        "get_personal_information(text)"
      ],
      "metadata": {
        "colab": {
          "base_uri": "https://localhost:8080/"
        },
        "id": "_bfV4sqcpqh0",
        "outputId": "b441c4f6-a017-474f-91e7-94229d172210"
      },
      "execution_count": 34,
      "outputs": [
        {
          "output_type": "execute_result",
          "data": {
            "text/plain": [
              "{'age': 53,\n",
              " 'name': 'Elon Reeve Musk',\n",
              " 'birth_date': 'June 28, 1971',\n",
              " 'birth_place': 'Pretoria, Transvaal, South Africa'}"
            ]
          },
          "metadata": {},
          "execution_count": 34
        }
      ]
    }
  ]
}